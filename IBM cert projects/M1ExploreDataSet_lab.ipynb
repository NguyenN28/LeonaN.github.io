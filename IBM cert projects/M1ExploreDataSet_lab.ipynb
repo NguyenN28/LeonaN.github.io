{
  "cells": [
    {
      "cell_type": "markdown",
      "metadata": {
        "id": "view-in-github",
        "colab_type": "text"
      },
      "source": [
        "<a href=\"https://colab.research.google.com/github/NguyenN28/Data/blob/main/M1ExploreDataSet_lab.ipynb\" target=\"_parent\"><img src=\"https://colab.research.google.com/assets/colab-badge.svg\" alt=\"Open In Colab\"/></a>"
      ]
    },
    {
      "cell_type": "markdown",
      "metadata": {
        "id": "7Nwr-mu_4dvQ"
      },
      "source": [
        "<p style=\"text-align:center\">\n",
        "    <a href=\"https://skills.network/?utm_medium=Exinfluencer&utm_source=Exinfluencer&utm_content=000026UJ&utm_term=10006555&utm_id=NA-SkillsNetwork-Channel-SkillsNetworkCoursesIBMDA0321ENSkillsNetwork21426264-2022-01-01\" target=\"_blank\">\n",
        "    <img src=\"https://cf-courses-data.s3.us.cloud-object-storage.appdomain.cloud/assets/logos/SN_web_lightmode.png\" width=\"200\" alt=\"Skills Network Logo\"  />\n",
        "    </a>\n",
        "</p>\n"
      ]
    },
    {
      "cell_type": "markdown",
      "metadata": {
        "id": "0KM1fnyU4dvZ"
      },
      "source": [
        "# **Survey Dataset Exploration Lab**\n"
      ]
    },
    {
      "cell_type": "markdown",
      "metadata": {
        "id": "1jQ2LaxP4dva"
      },
      "source": [
        "Estimated time needed: **30** minutes\n"
      ]
    },
    {
      "cell_type": "markdown",
      "metadata": {
        "id": "QQE7oOD24dvb"
      },
      "source": [
        "## Objectives\n"
      ]
    },
    {
      "cell_type": "markdown",
      "metadata": {
        "id": "TSHnmFZX4dvc"
      },
      "source": [
        "After completing this lab you will be able to:\n"
      ]
    },
    {
      "cell_type": "markdown",
      "metadata": {
        "id": "Eu2A4-no4dvd"
      },
      "source": [
        "*   Load the dataset that will used thru the capstone project.\n",
        "*   Explore the dataset.\n",
        "*   Get familier with the data types.\n"
      ]
    },
    {
      "cell_type": "markdown",
      "metadata": {
        "id": "L1OtzWK64dve"
      },
      "source": [
        "## Load the dataset\n"
      ]
    },
    {
      "cell_type": "markdown",
      "metadata": {
        "id": "hrJTbETQ4dvf"
      },
      "source": [
        "Import the required libraries.\n"
      ]
    },
    {
      "cell_type": "code",
      "execution_count": 1,
      "metadata": {
        "id": "tGUBwe9o4dvg"
      },
      "outputs": [],
      "source": [
        "import pandas as pd"
      ]
    },
    {
      "cell_type": "markdown",
      "metadata": {
        "id": "wfRRnl3j4dvi"
      },
      "source": [
        "The dataset is available on the IBM Cloud at the below url.\n"
      ]
    },
    {
      "cell_type": "code",
      "execution_count": 2,
      "metadata": {
        "id": "vNsf5hZw4dvj"
      },
      "outputs": [],
      "source": [
        "dataset_url = \"https://cf-courses-data.s3.us.cloud-object-storage.appdomain.cloud/IBM-DA0321EN-SkillsNetwork/LargeData/m1_survey_data.csv\""
      ]
    },
    {
      "cell_type": "markdown",
      "metadata": {
        "id": "Ndg_oHro4dvk"
      },
      "source": [
        "Load the data available at dataset_url into a dataframe.\n"
      ]
    },
    {
      "cell_type": "code",
      "execution_count": 4,
      "metadata": {
        "id": "C2FiFPwI4dvl"
      },
      "outputs": [],
      "source": [
        "df=pd.read_csv(dataset_url)"
      ]
    },
    {
      "cell_type": "markdown",
      "metadata": {
        "id": "YN3rIZa54dvl"
      },
      "source": [
        "## Explore the data set\n"
      ]
    },
    {
      "cell_type": "markdown",
      "metadata": {
        "id": "qDsFlDbH4dvm"
      },
      "source": [
        "It is a good idea to print the top 5 rows of the dataset to get a feel of how the dataset will look.\n"
      ]
    },
    {
      "cell_type": "markdown",
      "metadata": {
        "id": "dxOTf9E04dvm"
      },
      "source": [
        "Display the top 5 rows and columns from your dataset.\n"
      ]
    },
    {
      "cell_type": "code",
      "execution_count": 5,
      "metadata": {
        "id": "If3-X6Dr4dvn",
        "colab": {
          "base_uri": "https://localhost:8080/"
        },
        "outputId": "804bd72e-d4de-44a4-8521-c964a27dadff"
      },
      "outputs": [
        {
          "output_type": "stream",
          "name": "stdout",
          "text": [
            "first 5 rows\n",
            "   Respondent                      MainBranch Hobbyist  \\\n",
            "0           4  I am a developer by profession       No   \n",
            "1           9  I am a developer by profession      Yes   \n",
            "2          13  I am a developer by profession      Yes   \n",
            "3          16  I am a developer by profession      Yes   \n",
            "4          17  I am a developer by profession      Yes   \n",
            "\n",
            "                                         OpenSourcer  \\\n",
            "0                                              Never   \n",
            "1                         Once a month or more often   \n",
            "2  Less than once a month but more than once per ...   \n",
            "3                                              Never   \n",
            "4  Less than once a month but more than once per ...   \n",
            "\n",
            "                                          OpenSource          Employment  \\\n",
            "0  The quality of OSS and closed source software ...  Employed full-time   \n",
            "1  The quality of OSS and closed source software ...  Employed full-time   \n",
            "2  OSS is, on average, of HIGHER quality than pro...  Employed full-time   \n",
            "3  The quality of OSS and closed source software ...  Employed full-time   \n",
            "4  The quality of OSS and closed source software ...  Employed full-time   \n",
            "\n",
            "          Country Student                                            EdLevel  \\\n",
            "0   United States      No           Bachelor’s degree (BA, BS, B.Eng., etc.)   \n",
            "1     New Zealand      No  Some college/university study without earning ...   \n",
            "2   United States      No        Master’s degree (MA, MS, M.Eng., MBA, etc.)   \n",
            "3  United Kingdom      No        Master’s degree (MA, MS, M.Eng., MBA, etc.)   \n",
            "4       Australia      No           Bachelor’s degree (BA, BS, B.Eng., etc.)   \n",
            "\n",
            "                                      UndergradMajor  ...  \\\n",
            "0  Computer science, computer engineering, or sof...  ...   \n",
            "1  Computer science, computer engineering, or sof...  ...   \n",
            "2  Computer science, computer engineering, or sof...  ...   \n",
            "3                                                NaN  ...   \n",
            "4  Computer science, computer engineering, or sof...  ...   \n",
            "\n",
            "                              WelcomeChange  \\\n",
            "0   Just as welcome now as I felt last year   \n",
            "1   Just as welcome now as I felt last year   \n",
            "2  Somewhat more welcome now than last year   \n",
            "3   Just as welcome now as I felt last year   \n",
            "4   Just as welcome now as I felt last year   \n",
            "\n",
            "                                        SONewContent   Age Gender Trans  \\\n",
            "0  Tech articles written by other developers;Indu...  22.0    Man    No   \n",
            "1                                                NaN  23.0    Man    No   \n",
            "2  Tech articles written by other developers;Cour...  28.0    Man    No   \n",
            "3  Tech articles written by other developers;Indu...  26.0    Man    No   \n",
            "4  Tech articles written by other developers;Indu...  29.0    Man    No   \n",
            "\n",
            "                 Sexuality                              Ethnicity Dependents  \\\n",
            "0  Straight / Heterosexual           White or of European descent         No   \n",
            "1                 Bisexual           White or of European descent         No   \n",
            "2  Straight / Heterosexual           White or of European descent        Yes   \n",
            "3  Straight / Heterosexual           White or of European descent         No   \n",
            "4  Straight / Heterosexual  Hispanic or Latino/Latina;Multiracial         No   \n",
            "\n",
            "            SurveyLength                  SurveyEase  \n",
            "0  Appropriate in length                        Easy  \n",
            "1  Appropriate in length  Neither easy nor difficult  \n",
            "2  Appropriate in length                        Easy  \n",
            "3  Appropriate in length  Neither easy nor difficult  \n",
            "4  Appropriate in length                        Easy  \n",
            "\n",
            "[5 rows x 85 columns]\n"
          ]
        }
      ],
      "source": [
        "result= df.head(5)\n",
        "print('first 5 rows')\n",
        "print(result)"
      ]
    },
    {
      "cell_type": "markdown",
      "metadata": {
        "id": "JnTfLDjy4dvn"
      },
      "source": [
        "## Find out the number of rows and columns\n"
      ]
    },
    {
      "cell_type": "markdown",
      "metadata": {
        "id": "Z2z3cowe4dvo"
      },
      "source": [
        "Start by exploring the numbers of rows and columns of data in the dataset.\n"
      ]
    },
    {
      "cell_type": "markdown",
      "metadata": {
        "id": "qBvQ-wzy4dvp"
      },
      "source": [
        "Print the number of rows in the dataset.\n"
      ]
    },
    {
      "cell_type": "code",
      "execution_count": 6,
      "metadata": {
        "id": "RD9XgbIH4dvp",
        "colab": {
          "base_uri": "https://localhost:8080/"
        },
        "outputId": "5dde81ab-8179-48ca-9fcc-4c61a6f3cb68"
      },
      "outputs": [
        {
          "output_type": "stream",
          "name": "stdout",
          "text": [
            "11552\n"
          ]
        }
      ],
      "source": [
        "rows=len(df.axes[0])\n",
        "print(rows)"
      ]
    },
    {
      "cell_type": "markdown",
      "metadata": {
        "id": "3BQ9-VUj4dvq"
      },
      "source": [
        "Print the number of columns in the dataset.\n"
      ]
    },
    {
      "cell_type": "code",
      "execution_count": 7,
      "metadata": {
        "id": "GlMx0c1V4dvq",
        "colab": {
          "base_uri": "https://localhost:8080/"
        },
        "outputId": "bda06593-993c-40d9-d8f9-4269b9460f89"
      },
      "outputs": [
        {
          "output_type": "stream",
          "name": "stdout",
          "text": [
            "85\n"
          ]
        }
      ],
      "source": [
        "columns=len(df.axes[1])\n",
        "print(columns)"
      ]
    },
    {
      "cell_type": "markdown",
      "metadata": {
        "id": "6qQlaEDc4dvr"
      },
      "source": [
        "## Identify the data types of each column\n"
      ]
    },
    {
      "cell_type": "markdown",
      "metadata": {
        "id": "C3Pz532O4dvr"
      },
      "source": [
        "Explore the dataset and identify the data types of each column.\n"
      ]
    },
    {
      "cell_type": "markdown",
      "metadata": {
        "id": "wf4hne9M4dvr"
      },
      "source": [
        "Print the datatype of all columns.\n"
      ]
    },
    {
      "cell_type": "code",
      "execution_count": 8,
      "metadata": {
        "id": "oynN6dsS4dvr",
        "colab": {
          "base_uri": "https://localhost:8080/"
        },
        "outputId": "c387c14b-99dd-4d45-de48-113ac3998034"
      },
      "outputs": [
        {
          "output_type": "execute_result",
          "data": {
            "text/plain": [
              "Respondent       int64\n",
              "MainBranch      object\n",
              "Hobbyist        object\n",
              "OpenSourcer     object\n",
              "OpenSource      object\n",
              "                 ...  \n",
              "Sexuality       object\n",
              "Ethnicity       object\n",
              "Dependents      object\n",
              "SurveyLength    object\n",
              "SurveyEase      object\n",
              "Length: 85, dtype: object"
            ]
          },
          "metadata": {},
          "execution_count": 8
        }
      ],
      "source": [
        "df.dtypes"
      ]
    },
    {
      "cell_type": "markdown",
      "metadata": {
        "id": "9LC0JCps4dvs"
      },
      "source": [
        "Print the mean age of the survey participants.\n"
      ]
    },
    {
      "cell_type": "code",
      "execution_count": 10,
      "metadata": {
        "id": "mGnDYJvK4dvs",
        "colab": {
          "base_uri": "https://localhost:8080/"
        },
        "outputId": "bfd3eeba-14d6-4045-a1ba-7929a37902e5"
      },
      "outputs": [
        {
          "output_type": "stream",
          "name": "stdout",
          "text": [
            "The mean age of the survey participants is  30.8\n"
          ]
        }
      ],
      "source": [
        "print('The mean age of the survey participants is ', df['Age'].mean().round(1))"
      ]
    },
    {
      "cell_type": "markdown",
      "metadata": {
        "id": "-eA30V6R4dvs"
      },
      "source": [
        "The dataset is the result of a world wide survey. Print how many unique countries are there in the Country column.\n"
      ]
    },
    {
      "cell_type": "code",
      "execution_count": 26,
      "metadata": {
        "id": "BpkMVp5P4dvt",
        "colab": {
          "base_uri": "https://localhost:8080/"
        },
        "outputId": "f2f3918e-289d-4f75-f939-55be9696c152"
      },
      "outputs": [
        {
          "output_type": "stream",
          "name": "stdout",
          "text": [
            "The unique countries are  135\n",
            "Country                               respondants\n",
            "United States                                3173\n",
            "India                                         911\n",
            "United Kingdom                                841\n",
            "Germany                                       715\n",
            "Canada                                        442\n",
            "France                                        339\n",
            "Brazil                                        328\n",
            "Australia                                     287\n",
            "Netherlands                                   259\n",
            "Spain                                         257\n",
            "Russian Federation                            211\n",
            "Poland                                        205\n",
            "Italy                                         188\n",
            "Sweden                                        162\n",
            "Switzerland                                   151\n",
            "Ukraine                                       111\n",
            "South Africa                                  104\n",
            "Israel                                        104\n",
            "Mexico                                         98\n",
            "Turkey                                         98\n",
            "Romania                                        95\n",
            "Pakistan                                       93\n",
            "Belgium                                        89\n",
            "Austria                                        89\n",
            "Denmark                                        85\n",
            "Norway                                         84\n",
            "Iran                                           83\n",
            "Bulgaria                                       77\n",
            "New Zealand                                    76\n",
            "Greece                                         76\n",
            "Argentina                                      73\n",
            "Czech Republic                                 72\n",
            "Finland                                        72\n",
            "Portugal                                       69\n",
            "China                                          69\n",
            "Ireland                                        67\n",
            "Hungary                                        64\n",
            "Bangladesh                                     58\n",
            "Serbia                                         53\n",
            "Japan                                          50\n",
            "Colombia                                       50\n",
            "Nigeria                                        44\n",
            "Sri Lanka                                      43\n",
            "Malaysia                                       42\n",
            "Egypt                                          39\n",
            "Philippines                                    36\n",
            "Indonesia                                      36\n",
            "Slovenia                                       35\n",
            "Lithuania                                      35\n",
            "Hong Kong (S.A.R.)                             34\n",
            "Singapore                                      33\n",
            "Croatia                                        31\n",
            "Slovakia                                       28\n",
            "Estonia                                        27\n",
            "Belarus                                        24\n",
            "Taiwan                                         23\n",
            "Chile                                          21\n",
            "Kenya                                          20\n",
            "Latvia                                         19\n",
            "Thailand                                       19\n",
            "United Arab Emirates                           19\n",
            "Other Country (Not Listed Above)               18\n",
            "Dominican Republic                             16\n",
            "Uruguay                                        16\n",
            "Costa Rica                                     15\n",
            "Nepal                                          15\n",
            "South Korea                                    15\n",
            "Guatemala                                      13\n",
            "Peru                                           12\n",
            "Armenia                                        12\n",
            "Albania                                        12\n",
            "Viet Nam                                       12\n",
            "Lebanon                                        12\n",
            "Saudi Arabia                                   12\n",
            "Ecuador                                        11\n",
            "Luxembourg                                     11\n",
            "Republic of Moldova                            10\n",
            "Bosnia and Herzegovina                         10\n",
            "Tunisia                                         9\n",
            "Georgia                                         9\n",
            "El Salvador                                     8\n",
            "Malta                                           8\n",
            "Morocco                                         8\n",
            "Venezuela, Bolivarian Republic of...            7\n",
            "The former Yugoslav Republic of Macedonia       7\n",
            "Jordan                                          7\n",
            "Ghana                                           7\n",
            "Cyprus                                          7\n",
            "Paraguay                                        6\n",
            "Uganda                                          6\n",
            "Iceland                                         6\n",
            "Azerbaijan                                      5\n",
            "Zimbabwe                                        5\n",
            "Côte d'Ivoire                                   5\n",
            "Honduras                                        5\n",
            "Cameroon                                        4\n",
            "Ethiopia                                        4\n",
            "Cuba                                            4\n",
            "Kyrgyzstan                                      4\n",
            "Bolivia                                         4\n",
            "Syrian Arab Republic                            3\n",
            "Bahrain                                         3\n",
            "Swaziland                                       3\n",
            "Myanmar                                         3\n",
            "Nicaragua                                       3\n",
            "Algeria                                         3\n",
            "Sudan                                           2\n",
            "Mongolia                                        2\n",
            "Congo, Republic of the...                       2\n",
            "Afghanistan                                     2\n",
            "Kuwait                                          2\n",
            "United Republic of Tanzania                     2\n",
            "Senegal                                         2\n",
            "Uzbekistan                                      2\n",
            "Mauritius                                       2\n",
            "Montenegro                                      2\n",
            "Panama                                          2\n",
            "Burundi                                         2\n",
            "Libyan Arab Jamahiriya                          1\n",
            "Mozambique                                      1\n",
            "Cambodia                                        1\n",
            "Togo                                            1\n",
            "Timor-Leste                                     1\n",
            "Jamaica                                         1\n",
            "Yemen                                           1\n",
            "Monaco                                          1\n",
            "Republic of Korea                               1\n",
            "Somalia                                         1\n",
            "Turkmenistan                                    1\n",
            "Qatar                                           1\n",
            "Liechtenstein                                   1\n",
            "Rwanda                                          1\n",
            "Brunei Darussalam                               1\n",
            "Cape Verde                                      1\n",
            "Iraq                                            1\n",
            "Name: Country, dtype: int64\n"
          ]
        }
      ],
      "source": [
        "print('The unique countries are ', df['Country'].nunique())\n",
        "print('Country                               respondants')     \n",
        "\n",
        "with pd.option_context('display.max_rows', None, 'display.max_columns', None):\n",
        "    print(df['Country'].value_counts())"
      ]
    },
    {
      "cell_type": "markdown",
      "metadata": {
        "id": "YqiXwlKT4dvt"
      },
      "source": [
        "## Authors\n"
      ]
    },
    {
      "cell_type": "markdown",
      "metadata": {
        "id": "UGNjHiwC4dvt"
      },
      "source": [
        "Ramesh Sannareddy\n"
      ]
    },
    {
      "cell_type": "markdown",
      "metadata": {
        "id": "ot98dRde4dvu"
      },
      "source": [
        "### Other Contributors\n"
      ]
    },
    {
      "cell_type": "markdown",
      "metadata": {
        "id": "ElIKA-j-4dvu"
      },
      "source": [
        "Rav Ahuja\n"
      ]
    },
    {
      "cell_type": "markdown",
      "metadata": {
        "id": "op-1cKWO4dvu"
      },
      "source": [
        "## Change Log\n"
      ]
    },
    {
      "cell_type": "markdown",
      "metadata": {
        "id": "08V-GZhE4dvv"
      },
      "source": [
        "| Date (YYYY-MM-DD) | Version | Changed By        | Change Description                 |\n",
        "| ----------------- | ------- | ----------------- | ---------------------------------- |\n",
        "| 2020-10-17        | 0.1     | Ramesh Sannareddy | Created initial version of the lab |\n"
      ]
    },
    {
      "cell_type": "markdown",
      "metadata": {
        "id": "nRextCQP4dvv"
      },
      "source": [
        "Copyright © 2020 IBM Corporation. This notebook and its source code are released under the terms of the [MIT License](https://cognitiveclass.ai/mit-license?utm_medium=Exinfluencer&utm_source=Exinfluencer&utm_content=000026UJ&utm_term=10006555&utm_id=NA-SkillsNetwork-Channel-SkillsNetworkCoursesIBMDA0321ENSkillsNetwork21426264-2022-01-01&cm_mmc=Email_Newsletter-\\_-Developer_Ed%2BTech-\\_-WW_WW-\\_-SkillsNetwork-Courses-IBM-DA0321EN-SkillsNetwork-21426264&cm_mmca1=000026UJ&cm_mmca2=10006555&cm_mmca3=M12345678&cvosrc=email.Newsletter.M12345678&cvo_campaign=000026UJ).\n"
      ]
    }
  ],
  "metadata": {
    "kernelspec": {
      "display_name": "Python 3",
      "language": "python",
      "name": "python3"
    },
    "language_info": {
      "codemirror_mode": {
        "name": "ipython",
        "version": 3
      },
      "file_extension": ".py",
      "mimetype": "text/x-python",
      "name": "python",
      "nbconvert_exporter": "python",
      "pygments_lexer": "ipython3",
      "version": "3.7.6"
    },
    "colab": {
      "provenance": [],
      "include_colab_link": true
    }
  },
  "nbformat": 4,
  "nbformat_minor": 0
}